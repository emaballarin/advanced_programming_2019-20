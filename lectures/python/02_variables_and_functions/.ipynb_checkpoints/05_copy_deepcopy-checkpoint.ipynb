{
 "cells": [
  {
   "cell_type": "markdown",
   "metadata": {},
   "source": [
    "### Shallow is the default"
   ]
  },
  {
   "cell_type": "code",
   "execution_count": 1,
   "metadata": {},
   "outputs": [],
   "source": [
    "l = [1,2,[4,5,6], 8]\n",
    "o = l"
   ]
  },
  {
   "cell_type": "code",
   "execution_count": 2,
   "metadata": {},
   "outputs": [
    {
     "data": {
      "text/plain": [
       "True"
      ]
     },
     "execution_count": 2,
     "metadata": {},
     "output_type": "execute_result"
    }
   ],
   "source": [
    "o == l"
   ]
  },
  {
   "cell_type": "code",
   "execution_count": 3,
   "metadata": {},
   "outputs": [
    {
     "data": {
      "text/plain": [
       "True"
      ]
     },
     "execution_count": 3,
     "metadata": {},
     "output_type": "execute_result"
    }
   ],
   "source": [
    "o is l"
   ]
  },
  {
   "cell_type": "code",
   "execution_count": 4,
   "metadata": {},
   "outputs": [
    {
     "data": {
      "text/plain": [
       "(140542868801544, 140542868801544)"
      ]
     },
     "execution_count": 4,
     "metadata": {},
     "output_type": "execute_result"
    }
   ],
   "source": [
    "id(o), id(l)"
   ]
  },
  {
   "cell_type": "code",
   "execution_count": 5,
   "metadata": {},
   "outputs": [],
   "source": [
    "o = list(l)"
   ]
  },
  {
   "cell_type": "code",
   "execution_count": 6,
   "metadata": {},
   "outputs": [
    {
     "data": {
      "text/plain": [
       "True"
      ]
     },
     "execution_count": 6,
     "metadata": {},
     "output_type": "execute_result"
    }
   ],
   "source": [
    "o == l"
   ]
  },
  {
   "cell_type": "code",
   "execution_count": 7,
   "metadata": {},
   "outputs": [
    {
     "data": {
      "text/plain": [
       "False"
      ]
     },
     "execution_count": 7,
     "metadata": {},
     "output_type": "execute_result"
    }
   ],
   "source": [
    "o is l"
   ]
  },
  {
   "cell_type": "code",
   "execution_count": 8,
   "metadata": {},
   "outputs": [
    {
     "name": "stdout",
     "output_type": "stream",
     "text": [
      "[1, 2, [4, 5, 6], 8, 9]\n",
      "[1, 2, [4, 5, 6], 8]\n"
     ]
    }
   ],
   "source": [
    "l.append(9)\n",
    "print(l)\n",
    "print(o)"
   ]
  },
  {
   "cell_type": "code",
   "execution_count": 10,
   "metadata": {},
   "outputs": [
    {
     "name": "stdout",
     "output_type": "stream",
     "text": [
      "[1, 2, [4, 5, 6, 7, 7], 8, 9]\n",
      "[1, 2, [4, 5, 6, 7, 7], 8]\n"
     ]
    }
   ],
   "source": [
    "l[2].append(7)\n",
    "print(l)\n",
    "print(o)"
   ]
  },
  {
   "cell_type": "code",
   "execution_count": 11,
   "metadata": {},
   "outputs": [],
   "source": [
    "import copy"
   ]
  },
  {
   "cell_type": "code",
   "execution_count": 22,
   "metadata": {},
   "outputs": [
    {
     "name": "stdout",
     "output_type": "stream",
     "text": [
      "[1, 2, [4, 5, 6, 7, 7, 888, 888, 888, 888, 888, 888, 888, 888, 888, 888, 888], 8, 9]\n",
      "[1, 2, [4, 5, 6, 7, 7, 888, 888, 888, 888, 888, 888, 888, 888, 888, 888, 888], 8, 9]\n"
     ]
    }
   ],
   "source": [
    "o = copy.copy(l)\n",
    "l[2].append(888)\n",
    "print(l)\n",
    "print(o)"
   ]
  },
  {
   "cell_type": "code",
   "execution_count": 23,
   "metadata": {},
   "outputs": [
    {
     "name": "stdout",
     "output_type": "stream",
     "text": [
      "[1, 2, [4, 5, 6, 7, 7, 888, 888, 888, 888, 888, 888, 888, 888, 888, 888, 888, 3333], 8, 9]\n",
      "[1, 2, [4, 5, 6, 7, 7, 888, 888, 888, 888, 888, 888, 888, 888, 888, 888, 888], 8, 9]\n"
     ]
    }
   ],
   "source": [
    "o = copy.deepcopy(l)\n",
    "l[2].append(3333)\n",
    "print(l)\n",
    "print(o)"
   ]
  },
  {
   "cell_type": "code",
   "execution_count": 55,
   "metadata": {},
   "outputs": [
    {
     "name": "stdout",
     "output_type": "stream",
     "text": [
      "[1, 2, [4, 5, 6, 7, 7, 888, 888, 888, 888, 888, 888, 888, 888, 888, 888, 888, 3333], 8, 9, 99, 99, 99, 99, 99, 99, 99, 99, 99, 99, 99, 99, 99, 99, 99, 99, 99, 99, 99, 99]\n"
     ]
    }
   ],
   "source": [
    "def augmented(ll):\n",
    "    ll+=[99]\n",
    "augmented(l)\n",
    "print(l)"
   ]
  },
  {
   "cell_type": "code",
   "execution_count": 60,
   "metadata": {},
   "outputs": [
    {
     "name": "stdout",
     "output_type": "stream",
     "text": [
      "[1, 2, [4, 5, 6, 7, 7, 888, 888, 888, 888, 888, 888, 888, 888, 888, 888, 888, 3333], 8, 9, 99, 99, 99, 99, 99, 99, 99, 99, 99, 99, 99, 99, 99, 99, 99, 99, 99, 99, 99, 99]\n"
     ]
    }
   ],
   "source": [
    "def assignment(ll):\n",
    "    ll = [99]\n",
    "assignment(l)\n",
    "print(l)"
   ]
  }
 ],
 "metadata": {
  "kernelspec": {
   "display_name": "Python 3",
   "language": "python",
   "name": "python3"
  },
  "language_info": {
   "codemirror_mode": {
    "name": "ipython",
    "version": 3
   },
   "file_extension": ".py",
   "mimetype": "text/x-python",
   "name": "python",
   "nbconvert_exporter": "python",
   "pygments_lexer": "ipython3",
   "version": "3.6.9"
  }
 },
 "nbformat": 4,
 "nbformat_minor": 4
}
